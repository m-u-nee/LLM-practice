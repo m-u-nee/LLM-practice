{
 "cells": [
  {
   "cell_type": "code",
   "execution_count": 50,
   "metadata": {},
   "outputs": [],
   "source": [
    "import torch\n",
    "import torch.nn.functional as F\n",
    "import matplotlib.pyplot as plt # for making figures\n",
    "%matplotlib inline"
   ]
  },
  {
   "cell_type": "code",
   "execution_count": 66,
   "metadata": {},
   "outputs": [
    {
     "name": "stdout",
     "output_type": "stream",
     "text": [
      "9222\n"
     ]
    }
   ],
   "source": [
    "# read in all the words\n",
    "# Read the file and split into words\n",
    "# Read the file and split into words\n",
    "with open('nomi_italiani.txt', 'r') as f:\n",
    "    text = f.read()\n",
    "    words = text.split()\n",
    "\n",
    "\n",
    "words[:6]\n",
    "print(len(words))\n"
   ]
  },
  {
   "cell_type": "code",
   "execution_count": 52,
   "metadata": {},
   "outputs": [
    {
     "name": "stdout",
     "output_type": "stream",
     "text": [
      "{1: \"'\", 2: ',', 0: '.', 4: 'a', 5: 'b', 6: 'c', 7: 'd', 8: 'e', 9: 'f', 10: 'g', 11: 'h', 12: 'i', 13: 'j', 14: 'k', 15: 'l', 16: 'm', 17: 'n', 18: 'o', 19: 'p', 20: 'q', 21: 'r', 22: 's', 23: 't', 24: 'u', 25: 'v', 26: 'w', 27: 'x', 28: 'y', 29: 'z', 30: 'Ë', 31: 'Ï', 32: 'Ú', 33: '˘', 34: '‡', 35: '1'}\n",
      "35\n",
      "15\n",
      "francescantonia\n"
     ]
    }
   ],
   "source": [
    "# build the vocabulary of characters and mappings to/from integers\n",
    "chars = sorted(list(set(''.join(words))))\n",
    "chars = [c for c in chars]\n",
    "\n",
    "stoi = {s:i+1 for i,s in enumerate(chars)}\n",
    "vocab_size = len(stoi) + 2\n",
    "stoi['.'] = 0\n",
    "stoi['1'] = vocab_size-1\n",
    "itos = {i:s for s,i in stoi.items()}\n",
    "vocab_size = len(itos)\n",
    "print(itos)\n",
    "print(vocab_size)\n",
    "lengths = [len(w) for w in words]   \n",
    "print(max(lengths))\n",
    "#print the longest word\n",
    "print(words[lengths.index(max(lengths))])\n",
    "\n",
    "\n"
   ]
  },
  {
   "cell_type": "code",
   "execution_count": 53,
   "metadata": {},
   "outputs": [
    {
     "name": "stdout",
     "output_type": "stream",
     "text": [
      "torch.Size([73739, 16]) torch.Size([73739])\n",
      "torch.Size([0]) torch.Size([0])\n",
      "torch.Size([7401, 16]) torch.Size([7401])\n"
     ]
    }
   ],
   "source": [
    "# build the dataset\n",
    "block_size = 16 # context length: how many characters do we take to predict the next one?\n",
    "\n",
    "def build_dataset(words):  \n",
    "  X, Y = [], []\n",
    "  \n",
    "  for w in words:\n",
    "    context = [0] * block_size\n",
    "    for ch in w + '.':\n",
    "      ix = stoi[ch]\n",
    "      X.append(context)\n",
    "      Y.append(ix)\n",
    "      context = context[1:] + [ix] # crop and append\n",
    "\n",
    "  X = torch.tensor(X)\n",
    "  Y = torch.tensor(Y)\n",
    "  print(X.shape, Y.shape)\n",
    "  return X, Y\n",
    "\n",
    "import random\n",
    "random.shuffle(words)\n",
    "n1 = int(1*len(words))\n",
    "n2 = int(0.9*len(words))\n",
    "\n",
    "Xtr,  Ytr  = build_dataset(words[:n1])     # 80%\n",
    "Xdev, Ydev = build_dataset(words[n1:n2])   # 10%\n",
    "Xte,  Yte  = build_dataset(words[n2:])     # 10%\n"
   ]
  },
  {
   "cell_type": "code",
   "execution_count": 54,
   "metadata": {},
   "outputs": [
    {
     "name": "stdout",
     "output_type": "stream",
     "text": [
      "83865\n",
      "torch.Size([35, 18])\n"
     ]
    }
   ],
   "source": [
    "# MLP revisited\n",
    "n_embd = 18 # the dimensionality of the character embedding vectors\n",
    "n_hidden = 256 # the number of neurons in the hidden layer of the MLP\n",
    "\n",
    "C  = torch.randn((vocab_size, n_embd))\n",
    "W1 = torch.randn((n_embd * block_size, n_hidden)) * (5/3)/((n_embd * block_size)**0.5) #* 0.2\n",
    "b1 = torch.randn(n_hidden) * 0.01\n",
    "W2 = torch.randn((n_hidden, vocab_size)) * 0.01\n",
    "b2 = torch.randn(vocab_size) * 0\n",
    "bngain = torch.ones((1, n_hidden))\n",
    "bnbias = torch.zeros((1, n_hidden))\n",
    "\n",
    "parameters = [C, W1, W2, b2, bngain, bnbias]\n",
    "print(sum(p.nelement() for p in parameters)) # number of parameters in total\n",
    "for p in parameters:\n",
    "  p.requires_grad = True\n",
    "\n",
    "bnmean_running = torch.zeros((1, n_hidden))\n",
    "bnstd_running = torch.ones((1, n_hidden))\n",
    "\n",
    "print(C.shape)"
   ]
  },
  {
   "cell_type": "code",
   "execution_count": 55,
   "metadata": {},
   "outputs": [
    {
     "name": "stdout",
     "output_type": "stream",
     "text": [
      "Learning rate: 0.1, Iteration number: 0/120000, Loss: 3.5448\n",
      "Learning rate: 0.1, Iteration number: 10000/120000, Loss: 1.6723\n",
      "Learning rate: 0.1, Iteration number: 20000/120000, Loss: 1.4048\n",
      "Learning rate: 0.1, Iteration number: 30000/120000, Loss: 1.8965\n",
      "Learning rate: 0.01, Iteration number: 40000/120000, Loss: 1.5240\n",
      "Learning rate: 0.01, Iteration number: 50000/120000, Loss: 1.2897\n",
      "Learning rate: 0.01, Iteration number: 60000/120000, Loss: 1.2147\n",
      "Learning rate: 0.01, Iteration number: 70000/120000, Loss: 1.5992\n",
      "Learning rate: 0.005, Iteration number: 80000/120000, Loss: 1.1159\n",
      "Learning rate: 0.005, Iteration number: 90000/120000, Loss: 1.3296\n",
      "Learning rate: 0.005, Iteration number: 100000/120000, Loss: 1.2746\n",
      "Learning rate: 0.005, Iteration number: 110000/120000, Loss: 1.5423\n"
     ]
    }
   ],
   "source": [
    "# same optimization as last time\n",
    "batch_size = 64\n",
    "lossi = []\n",
    "\n",
    "# define lr and iterations arrays\n",
    "lr = [0.1, 0.01, 0.005]\n",
    "iterations = [40000, 40000, 40000]\n",
    "total_iterations = 0 # keep track of total iterations\n",
    "\n",
    "# loop through pairs of lr and iterations\n",
    "for lr, it in zip(lr, iterations):\n",
    "    for i in range(it):\n",
    "        \n",
    "        \n",
    "        # minibatch construct\n",
    "        ix = torch.randint(0, Xtr.shape[0], (batch_size,))\n",
    "        Xb, Yb = Xtr[ix], Ytr[ix] # batch X,Y\n",
    "        \n",
    "        \n",
    "        # forward pass\n",
    "        emb = C[Xb] # embed the characters into vectors\n",
    "        embcat = emb.view(emb.shape[0], -1) # concatenate the vectors\n",
    "        # Linear layer\n",
    "        hpreact = embcat @ W1 # + b1 # hidden layer pre-activation\n",
    "        bnmeani = hpreact.mean(0, keepdim=True)\n",
    "        bnstdi = hpreact.std(0, keepdim=True)\n",
    "        hpreact = bngain * (hpreact - bnmeani) / (bnstdi) + bnbias\n",
    "        with torch.no_grad():\n",
    "            bnmean_running = 0.999 * bnmean_running + 0.001 * bnmeani\n",
    "            bnstd_running = 0.999 * bnstd_running + 0.001 * bnstdi\n",
    "        # -------------------------------------------------------------\n",
    "        # Non-linearity\n",
    "        h = torch.tanh(hpreact) # hidden layer\n",
    "        logits = h @ W2 + b2 # output layer\n",
    "        loss = F.cross_entropy(logits, Yb) + 0.001 * (W1**2).mean() + 0.001 * (W2**2).mean() # cross-entropy loss\n",
    "        \n",
    "        # backward pass\n",
    "        for p in parameters:\n",
    "            p.grad = None\n",
    "        loss.backward()\n",
    "        \n",
    "        # update\n",
    "        for p in parameters:\n",
    "            p.data += -lr * p.grad\n",
    "\n",
    "        # track stats\n",
    "        if i % 10000 == 0: # print every once in a while\n",
    "            print(f'Learning rate: {lr}, Iteration number: {total_iterations}/{sum(iterations)}, Loss: {loss.item():.4f}')\n",
    "        if i % 10 == 0:\n",
    "            lossi.append(loss.log10().item())\n",
    "        total_iterations += 1\n",
    "        \n"
   ]
  },
  {
   "cell_type": "code",
   "execution_count": 56,
   "metadata": {},
   "outputs": [
    {
     "data": {
      "text/plain": [
       "[<matplotlib.lines.Line2D at 0x11f34e250>]"
      ]
     },
     "execution_count": 56,
     "metadata": {},
     "output_type": "execute_result"
    },
    {
     "data": {
      "image/png": "[encoded data removed]",
      "text/plain": [
       "<Figure size 640x480 with 1 Axes>"
      ]
     },
     "metadata": {},
     "output_type": "display_data"
    }
   ],
   "source": [
    "plt.plot(lossi)\n",
    "lossi_means = [sum(lossi[i:i+100])/100 for i in range(len(lossi)-100)]\n",
    "plt.plot(lossi_means)\n"
   ]
  },
  {
   "cell_type": "code",
   "execution_count": 270,
   "metadata": {},
   "outputs": [],
   "source": [
    "# @torch.no_grad() # this decorator disables gradient tracking\n",
    "# def split_loss(split):\n",
    "#   x,y = {\n",
    "#     'train': (Xtr, Ytr),\n",
    "#     'val': (Xdev, Ydev),\n",
    "#     'test': (Xte, Yte),\n",
    "#   }[split]\n",
    "#   emb = C[x] # (N, block_size, n_embd)\n",
    "#   embcat = emb.view(emb.shape[0], -1) # concat into (N, block_size * n_embd)\n",
    "#   hpreact = embcat @ W1  + b1\n",
    "#   hpreact = bngain * (hpreact - bnmean_running) / (bnstd_running) + bnbias\n",
    "#   h = torch.tanh(hpreact) # (N, n_hidden)\n",
    "#   logits = h @ W2 + b2 # (N, vocab_size)\n",
    "#   loss = F.cross_entropy(logits, y)\n",
    "#   print(split, loss.item())\n",
    "\n",
    "# split_loss('train')\n",
    "# split_loss('val')"
   ]
  },
  {
   "cell_type": "code",
   "execution_count": 80,
   "metadata": {},
   "outputs": [
    {
     "name": "stdout",
     "output_type": "stream",
     "text": [
      "olisanna\n",
      "filamantonio\n",
      "adriass\n",
      "averone\n",
      "uggergina\n",
      "eto\n",
      "lillura\n",
      "castenza\n",
      "conello\n"
     ]
    }
   ],
   "source": [
    "#sample the model \n",
    "@torch.no_grad()\n",
    "def sample():\n",
    "    names = []\n",
    "    for i in range(20):\n",
    "        context = [0] * block_size\n",
    "        name = []\n",
    "        for i in range(20):\n",
    "            context = torch.tensor(context).unsqueeze(0)\n",
    "            emb = C[context]\n",
    "            embcat = emb.view(emb.shape[0], -1)\n",
    "            hpreact = embcat @ W1 + b1\n",
    "            hpreact = bngain * (hpreact - bnmean_running) / (bnstd_running) + bnbias\n",
    "            h = torch.tanh(hpreact)\n",
    "            logits = h @ W2 + b2\n",
    "            probs = F.softmax(logits, 1)\n",
    "            next_char = torch.multinomial(probs, 1).squeeze()\n",
    "            if next_char == 0:\n",
    "                break\n",
    "            name.append(itos[next_char.item()])\n",
    "            context = context.squeeze().tolist()\n",
    "            context = context[1:] + [next_char.item()]\n",
    "            \n",
    "        names.append(''.join(name))\n",
    "    return names\n",
    "\n",
    "generated_names = sample()\n",
    "#now print on different lines\n",
    "for name in generated_names:\n",
    "    if name not in words:\n",
    "        print(name)\n",
    "\n",
    "\n"
   ]
  },
  {
   "cell_type": "code",
   "execution_count": null,
   "metadata": {},
   "outputs": [],
   "source": []
  },
  {
   "cell_type": "code",
   "execution_count": null,
   "metadata": {},
   "outputs": [],
   "source": []
  },
  {
   "cell_type": "code",
   "execution_count": null,
   "metadata": {},
   "outputs": [],
   "source": []
  },
  {
   "cell_type": "code",
   "execution_count": null,
   "metadata": {},
   "outputs": [],
   "source": []
  },
  {
   "cell_type": "code",
   "execution_count": 122,
   "metadata": {},
   "outputs": [],
   "source": [
    "# #Save the model\n",
    "# torch.save({\n",
    "#     'C': C,\n",
    "#     'W1': W1,\n",
    "#     'b1': b1,\n",
    "#     'W2': W2,\n",
    "#     'b2': b2,\n",
    "#     'bngain': bngain,\n",
    "#     'bnbias': bnbias,\n",
    "#     'bnmean_running': bnmean_running,\n",
    "#     'bnstd_running': bnstd_running\n",
    "# }, 'model_nomi_italiani.pt')\n",
    "\n"
   ]
  },
  {
   "cell_type": "code",
   "execution_count": 123,
   "metadata": {},
   "outputs": [],
   "source": [
    "# #load the model and sample\n",
    "# model = torch.load('model.pt')\n",
    "# C = model['C']\n",
    "# W1 = model['W1']\n",
    "# b1 = model['b1']\n",
    "# W2 = model['W2']\n",
    "# b2 = model['b2']\n",
    "# bngain = model['bngain']\n",
    "# bnbias = model['bnbias']\n",
    "# bnmean_running = model['bnmean_running']\n",
    "# bnstd_running = model['bnstd_running']\n",
    "\n",
    "# sample()\n"
   ]
  },
  {
   "cell_type": "code",
   "execution_count": 3,
   "metadata": {},
   "outputs": [
    {
     "name": "stdout",
     "output_type": "stream",
     "text": [
      "Average number of picks to get a black ball: 9.99940454\n"
     ]
    }
   ],
   "source": [
    "import random\n",
    "\n",
    "def simulate_bucket_pick():\n",
    "    # Initialize variables\n",
    "    picks = 0\n",
    "\n",
    "    # Simulate picking balls until a black ball is selected\n",
    "    while True:\n",
    "        picks += 1\n",
    "        # Generate a random number between 0 and 1 to represent the probability of picking a black ball\n",
    "        if random.random() <= 0.1:\n",
    "            break  # Exit the loop if a black ball is picked\n",
    "\n",
    "    return picks\n",
    "\n",
    "# Number of simulations to run\n",
    "num_simulations = 100000000\n",
    "total_picks = 0\n",
    "\n",
    "# Run simulations and calculate average\n",
    "for _ in range(num_simulations):\n",
    "    total_picks += simulate_bucket_pick()\n",
    "\n",
    "average_picks = total_picks / num_simulations\n",
    "\n",
    "print(f\"Average number of picks to get a black ball: {average_picks}\")\n"
   ]
  },
  {
   "cell_type": "code",
   "execution_count": 49,
   "metadata": {},
   "outputs": [
    {
     "name": "stdout",
     "output_type": "stream",
     "text": [
      "Average number of picks to get a black ball: 9.935\n"
     ]
    }
   ],
   "source": [
    "import numpy as np\n",
    "\n",
    "def simulate_bucket_pick_vectorized(num_simulations):\n",
    "    # Generate a random number between 0 and 1 for each simulation\n",
    "    picks = np.random.uniform(0, 1, num_simulations)\n",
    "    \n",
    "    # Calculate the number of picks until a black ball is selected for each simulation\n",
    "    return np.ceil(np.log(1 - picks) / np.log(0.9))\n",
    "\n",
    "# Number of simulations to run\n",
    "num_simulations = 10000\n",
    "\n",
    "# Run simulations and calculate average\n",
    "average_picks = np.mean(simulate_bucket_pick_vectorized(num_simulations))\n",
    "\n",
    "print(f\"Average number of picks to get a black ball: {average_picks}\")\n"
   ]
  },
  {
   "cell_type": "code",
   "execution_count": null,
   "metadata": {},
   "outputs": [],
   "source": []
  }
 ],
 "metadata": {
  "kernelspec": {
   "display_name": "general_ml",
   "language": "python",
   "name": "python3"
  },
  "language_info": {
   "codemirror_mode": {
    "name": "ipython",
    "version": 3
   },
   "file_extension": ".py",
   "mimetype": "text/x-python",
   "name": "python",
   "nbconvert_exporter": "python",
   "pygments_lexer": "ipython3",
   "version": "3.11.5"
  }
 },
 "nbformat": 4,
 "nbformat_minor": 2
}
