{
 "cells": [
  {
   "cell_type": "code",
   "execution_count": 1,
   "metadata": {},
   "outputs": [],
   "source": [
    "import torch\n",
    "import torch.nn.functional as F\n",
    "import matplotlib.pyplot as plt # for making figures\n",
    "%matplotlib inline"
   ]
  },
  {
   "cell_type": "code",
   "execution_count": 2,
   "metadata": {},
   "outputs": [
    {
     "data": {
      "text/plain": [
       "['emma', 'olivia', 'ava', 'isabella', 'sophia', 'charlotte', 'mia', 'amelia']"
      ]
     },
     "execution_count": 2,
     "metadata": {},
     "output_type": "execute_result"
    }
   ],
   "source": [
    "# read in all the words\n",
    "words = open('names.txt', 'r').read().splitlines()\n",
    "words[:8]"
   ]
  },
  {
   "cell_type": "code",
   "execution_count": 3,
   "metadata": {},
   "outputs": [
    {
     "name": "stdout",
     "output_type": "stream",
     "text": [
      "{1: 'a', 2: 'b', 3: 'c', 4: 'd', 5: 'e', 6: 'f', 7: 'g', 8: 'h', 9: 'i', 10: 'j', 11: 'k', 12: 'l', 13: 'm', 14: 'n', 15: 'o', 16: 'p', 17: 'q', 18: 'r', 19: 's', 20: 't', 21: 'u', 22: 'v', 23: 'w', 24: 'x', 25: 'y', 26: 'z', 0: '.'}\n",
      "27\n"
     ]
    }
   ],
   "source": [
    "# build the vocabulary of characters and mappings to/from integers\n",
    "chars = sorted(list(set(''.join(words))))\n",
    "stoi = {s:i+1 for i,s in enumerate(chars)}\n",
    "stoi['.'] = 0\n",
    "itos = {i:s for s,i in stoi.items()}\n",
    "vocab_size = len(itos)\n",
    "print(itos)\n",
    "print(vocab_size)"
   ]
  },
  {
   "cell_type": "code",
   "execution_count": 4,
   "metadata": {},
   "outputs": [
    {
     "name": "stdout",
     "output_type": "stream",
     "text": [
      "torch.Size([228146, 6]) torch.Size([228146])\n",
      "torch.Size([0]) torch.Size([0])\n",
      "torch.Size([22866, 6]) torch.Size([22866])\n"
     ]
    }
   ],
   "source": [
    "# build the dataset\n",
    "block_size = 6 # context length: how many characters do we take to predict the next one?\n",
    "\n",
    "def build_dataset(words):  \n",
    "  X, Y = [], []\n",
    "  \n",
    "  for w in words:\n",
    "    context = [0] * block_size\n",
    "    for ch in w + '.':\n",
    "      ix = stoi[ch]\n",
    "      X.append(context)\n",
    "      Y.append(ix)\n",
    "      context = context[1:] + [ix] # crop and append\n",
    "\n",
    "  X = torch.tensor(X)\n",
    "  Y = torch.tensor(Y)\n",
    "  print(X.shape, Y.shape)\n",
    "  return X, Y\n",
    "\n",
    "import random\n",
    "random.seed(42)\n",
    "random.shuffle(words)\n",
    "n1 = int(1*len(words))\n",
    "n2 = int(0.9*len(words))\n",
    "\n",
    "Xtr,  Ytr  = build_dataset(words[:n1])     # 80%\n",
    "Xdev, Ydev = build_dataset(words[n1:n2])   # 10%\n",
    "Xte,  Yte  = build_dataset(words[n2:])     # 10%\n"
   ]
  },
  {
   "cell_type": "code",
   "execution_count": 5,
   "metadata": {},
   "outputs": [
    {
     "name": "stdout",
     "output_type": "stream",
     "text": [
      "89297\n"
     ]
    }
   ],
   "source": [
    "# MLP revisited\n",
    "n_embd = 10 # the dimensionality of the character embedding vectors\n",
    "n_hidden = 1000 # the number of neurons in the hidden layer of the MLP\n",
    "\n",
    "g = torch.Generator().manual_seed(2147483647) # for reproducibility\n",
    "C  = torch.randn((vocab_size, n_embd),            generator=g)\n",
    "W1 = torch.randn((n_embd * block_size, n_hidden), generator=g) * (5/3)/((n_embd * block_size)**0.5) #* 0.2\n",
    "b1 = torch.randn(n_hidden,                        generator=g) * 0.01\n",
    "W2 = torch.randn((n_hidden, vocab_size),          generator=g) * 0.01\n",
    "b2 = torch.randn(vocab_size,                      generator=g) * 0\n",
    "bngain = torch.ones((1, n_hidden))\n",
    "bnbias = torch.zeros((1, n_hidden))\n",
    "\n",
    "\n",
    "parameters = [C, W1, W2, b2, bngain, bnbias]\n",
    "print(sum(p.nelement() for p in parameters)) # number of parameters in total\n",
    "for p in parameters:\n",
    "  p.requires_grad = True\n",
    "\n",
    "bnmean_running = torch.zeros((1, n_hidden))\n",
    "bnstd_running = torch.ones((1, n_hidden))"
   ]
  },
  {
   "cell_type": "code",
   "execution_count": 6,
   "metadata": {},
   "outputs": [
    {
     "name": "stdout",
     "output_type": "stream",
     "text": [
      "Learning rate: 0.1, Iteration number: 0/800000, Loss: 3.2846\n",
      "Learning rate: 0.1, Iteration number: 10000/800000, Loss: 1.7584\n",
      "Learning rate: 0.1, Iteration number: 20000/800000, Loss: 2.3385\n",
      "Learning rate: 0.1, Iteration number: 30000/800000, Loss: 2.1704\n",
      "Learning rate: 0.1, Iteration number: 40000/800000, Loss: 2.3509\n",
      "Learning rate: 0.1, Iteration number: 50000/800000, Loss: 2.1420\n",
      "Learning rate: 0.1, Iteration number: 60000/800000, Loss: 1.8800\n",
      "Learning rate: 0.1, Iteration number: 70000/800000, Loss: 2.1570\n",
      "Learning rate: 0.1, Iteration number: 80000/800000, Loss: 1.9236\n",
      "Learning rate: 0.1, Iteration number: 90000/800000, Loss: 2.3494\n",
      "Learning rate: 0.1, Iteration number: 100000/800000, Loss: 2.0972\n",
      "Learning rate: 0.1, Iteration number: 110000/800000, Loss: 1.7933\n",
      "Learning rate: 0.1, Iteration number: 120000/800000, Loss: 2.2320\n",
      "Learning rate: 0.1, Iteration number: 130000/800000, Loss: 2.1198\n",
      "Learning rate: 0.1, Iteration number: 140000/800000, Loss: 2.5568\n",
      "Learning rate: 0.1, Iteration number: 150000/800000, Loss: 2.0423\n",
      "Learning rate: 0.1, Iteration number: 160000/800000, Loss: 2.1288\n",
      "Learning rate: 0.1, Iteration number: 170000/800000, Loss: 2.0641\n",
      "Learning rate: 0.1, Iteration number: 180000/800000, Loss: 2.7964\n",
      "Learning rate: 0.1, Iteration number: 190000/800000, Loss: 2.3052\n",
      "Learning rate: 0.01, Iteration number: 200000/800000, Loss: 1.7065\n",
      "Learning rate: 0.01, Iteration number: 210000/800000, Loss: 1.5494\n",
      "Learning rate: 0.01, Iteration number: 220000/800000, Loss: 2.1769\n",
      "Learning rate: 0.01, Iteration number: 230000/800000, Loss: 2.0782\n",
      "Learning rate: 0.01, Iteration number: 240000/800000, Loss: 2.1970\n",
      "Learning rate: 0.01, Iteration number: 250000/800000, Loss: 1.6017\n",
      "Learning rate: 0.01, Iteration number: 260000/800000, Loss: 1.9346\n",
      "Learning rate: 0.01, Iteration number: 270000/800000, Loss: 2.0081\n",
      "Learning rate: 0.01, Iteration number: 280000/800000, Loss: 1.9601\n",
      "Learning rate: 0.01, Iteration number: 290000/800000, Loss: 2.0029\n",
      "Learning rate: 0.01, Iteration number: 300000/800000, Loss: 1.7473\n",
      "Learning rate: 0.01, Iteration number: 310000/800000, Loss: 1.9727\n",
      "Learning rate: 0.01, Iteration number: 320000/800000, Loss: 1.6485\n",
      "Learning rate: 0.01, Iteration number: 330000/800000, Loss: 1.6455\n",
      "Learning rate: 0.01, Iteration number: 340000/800000, Loss: 2.2135\n",
      "Learning rate: 0.01, Iteration number: 350000/800000, Loss: 1.6908\n",
      "Learning rate: 0.01, Iteration number: 360000/800000, Loss: 1.9225\n",
      "Learning rate: 0.01, Iteration number: 370000/800000, Loss: 2.3070\n",
      "Learning rate: 0.01, Iteration number: 380000/800000, Loss: 1.9043\n",
      "Learning rate: 0.01, Iteration number: 390000/800000, Loss: 2.4272\n",
      "Learning rate: 0.01, Iteration number: 400000/800000, Loss: 1.8714\n",
      "Learning rate: 0.01, Iteration number: 410000/800000, Loss: 2.2433\n",
      "Learning rate: 0.01, Iteration number: 420000/800000, Loss: 1.6995\n",
      "Learning rate: 0.01, Iteration number: 430000/800000, Loss: 1.9355\n",
      "Learning rate: 0.01, Iteration number: 440000/800000, Loss: 1.6716\n",
      "Learning rate: 0.01, Iteration number: 450000/800000, Loss: 1.7030\n",
      "Learning rate: 0.01, Iteration number: 460000/800000, Loss: 2.1489\n",
      "Learning rate: 0.01, Iteration number: 470000/800000, Loss: 1.9072\n",
      "Learning rate: 0.01, Iteration number: 480000/800000, Loss: 1.9721\n",
      "Learning rate: 0.01, Iteration number: 490000/800000, Loss: 2.0538\n",
      "Learning rate: 0.01, Iteration number: 500000/800000, Loss: 1.9301\n",
      "Learning rate: 0.01, Iteration number: 510000/800000, Loss: 1.5624\n",
      "Learning rate: 0.01, Iteration number: 520000/800000, Loss: 1.9605\n",
      "Learning rate: 0.01, Iteration number: 530000/800000, Loss: 2.2753\n",
      "Learning rate: 0.01, Iteration number: 540000/800000, Loss: 1.9011\n",
      "Learning rate: 0.01, Iteration number: 550000/800000, Loss: 1.9038\n",
      "Learning rate: 0.01, Iteration number: 560000/800000, Loss: 1.8852\n",
      "Learning rate: 0.01, Iteration number: 570000/800000, Loss: 2.1770\n",
      "Learning rate: 0.01, Iteration number: 580000/800000, Loss: 1.9574\n",
      "Learning rate: 0.01, Iteration number: 590000/800000, Loss: 1.8468\n",
      "Learning rate: 0.001, Iteration number: 600000/800000, Loss: 1.9458\n",
      "Learning rate: 0.001, Iteration number: 610000/800000, Loss: 2.2293\n",
      "Learning rate: 0.001, Iteration number: 620000/800000, Loss: 2.1933\n",
      "Learning rate: 0.001, Iteration number: 630000/800000, Loss: 2.2150\n",
      "Learning rate: 0.001, Iteration number: 640000/800000, Loss: 1.8840\n",
      "Learning rate: 0.001, Iteration number: 650000/800000, Loss: 1.8109\n",
      "Learning rate: 0.001, Iteration number: 660000/800000, Loss: 1.9244\n",
      "Learning rate: 0.001, Iteration number: 670000/800000, Loss: 2.0078\n",
      "Learning rate: 0.001, Iteration number: 680000/800000, Loss: 2.1377\n",
      "Learning rate: 0.001, Iteration number: 690000/800000, Loss: 1.9246\n",
      "Learning rate: 0.001, Iteration number: 700000/800000, Loss: 1.6558\n",
      "Learning rate: 0.001, Iteration number: 710000/800000, Loss: 1.5170\n",
      "Learning rate: 0.001, Iteration number: 720000/800000, Loss: 2.1617\n",
      "Learning rate: 0.001, Iteration number: 730000/800000, Loss: 1.7877\n",
      "Learning rate: 0.001, Iteration number: 740000/800000, Loss: 2.2925\n",
      "Learning rate: 0.001, Iteration number: 750000/800000, Loss: 1.6585\n",
      "Learning rate: 0.001, Iteration number: 760000/800000, Loss: 2.0785\n",
      "Learning rate: 0.001, Iteration number: 770000/800000, Loss: 1.7799\n",
      "Learning rate: 0.001, Iteration number: 780000/800000, Loss: 2.2759\n",
      "Learning rate: 0.001, Iteration number: 790000/800000, Loss: 2.4513\n"
     ]
    }
   ],
   "source": [
    "# same optimization as last time\n",
    "batch_size = 32\n",
    "lossi = []\n",
    "\n",
    "# define lr and iterations arrays\n",
    "lr = [0.1, 0.01, 0.001]\n",
    "iterations = [200000, 400000, 200000]\n",
    "total_iterations = 0 # keep track of total iterations\n",
    "\n",
    "# loop through pairs of lr and iterations\n",
    "for lr, it in zip(lr, iterations):\n",
    "    for i in range(it):\n",
    "        \n",
    "        \n",
    "        # minibatch construct\n",
    "        ix = torch.randint(0, Xtr.shape[0], (batch_size,), generator=g)\n",
    "        Xb, Yb = Xtr[ix], Ytr[ix] # batch X,Y\n",
    "        \n",
    "        # forward pass\n",
    "        emb = C[Xb] # embed the characters into vectors\n",
    "        embcat = emb.view(emb.shape[0], -1) # concatenate the vectors\n",
    "        # Linear layer\n",
    "        hpreact = embcat @ W1 # + b1 # hidden layer pre-activation\n",
    "        bnmeani = hpreact.mean(0, keepdim=True)\n",
    "        bnstdi = hpreact.std(0, keepdim=True)\n",
    "        hpreact = bngain * (hpreact - bnmeani) / (bnstdi) + bnbias\n",
    "        with torch.no_grad():\n",
    "            bnmean_running = 0.999 * bnmean_running + 0.001 * bnmeani\n",
    "            bnstd_running = 0.999 * bnstd_running + 0.001 * bnstdi\n",
    "        # -------------------------------------------------------------\n",
    "        # Non-linearity\n",
    "        h = torch.tanh(hpreact) # hidden layer\n",
    "        logits = h @ W2 + b2 # output layer\n",
    "        loss = F.cross_entropy(logits, Yb) + 0.001 * (W1**2).mean() + 0.001 * (W2**2).mean() # cross-entropy loss\n",
    "        \n",
    "        # backward pass\n",
    "        for p in parameters:\n",
    "            p.grad = None\n",
    "        loss.backward()\n",
    "        \n",
    "        # update\n",
    "        for p in parameters:\n",
    "            p.data += -lr * p.grad\n",
    "\n",
    "        # track stats\n",
    "        if i % 10000 == 0: # print every once in a while\n",
    "            print(f'Learning rate: {lr}, Iteration number: {total_iterations}/{sum(iterations)}, Loss: {loss.item():.4f}')\n",
    "        if i % 100 == 0:\n",
    "            lossi.append(loss.log10().item())\n",
    "        total_iterations += 1\n"
   ]
  },
  {
   "cell_type": "code",
   "execution_count": 7,
   "metadata": {},
   "outputs": [
    {
     "data": {
      "text/plain": [
       "[<matplotlib.lines.Line2D at 0x144ed1310>]"
      ]
     },
     "execution_count": 7,
     "metadata": {},
     "output_type": "execute_result"
    },
    {
     "data": {
      "image/png": "[encoded data removed]",
      "text/plain": [
       "<Figure size 640x480 with 1 Axes>"
      ]
     },
     "metadata": {},
     "output_type": "display_data"
    }
   ],
   "source": [
    "plt.plot(lossi)\n",
    "lossi_means = [sum(lossi[i:i+100])/100 for i in range(len(lossi)-100)]\n",
    "plt.plot(lossi_means)"
   ]
  },
  {
   "cell_type": "code",
   "execution_count": 8,
   "metadata": {},
   "outputs": [
    {
     "name": "stdout",
     "output_type": "stream",
     "text": [
      "train 1.7847758531570435\n"
     ]
    },
    {
     "ename": "IndexError",
     "evalue": "tensors used as indices must be long, int, byte or bool tensors",
     "output_type": "error",
     "traceback": [
      "\u001b[0;31m---------------------------------------------------------------------------\u001b[0m",
      "\u001b[0;31mIndexError\u001b[0m                                Traceback (most recent call last)",
      "\u001b[1;32m/Users/mattia/Desktop/zero_to_hero/makemore_mlp_optimized.ipynb Cell 8\u001b[0m line \u001b[0;36m1\n\u001b[1;32m     <a href='vscode-notebook-cell:/Users/mattia/Desktop/zero_to_hero/makemore_mlp_optimized.ipynb#X10sZmlsZQ%3D%3D?line=14'>15</a>\u001b[0m   \u001b[39mprint\u001b[39m(split, loss\u001b[39m.\u001b[39mitem())\n\u001b[1;32m     <a href='vscode-notebook-cell:/Users/mattia/Desktop/zero_to_hero/makemore_mlp_optimized.ipynb#X10sZmlsZQ%3D%3D?line=16'>17</a>\u001b[0m split_loss(\u001b[39m'\u001b[39m\u001b[39mtrain\u001b[39m\u001b[39m'\u001b[39m)\n\u001b[0;32m---> <a href='vscode-notebook-cell:/Users/mattia/Desktop/zero_to_hero/makemore_mlp_optimized.ipynb#X10sZmlsZQ%3D%3D?line=17'>18</a>\u001b[0m split_loss(\u001b[39m'\u001b[39;49m\u001b[39mval\u001b[39;49m\u001b[39m'\u001b[39;49m)\n",
      "File \u001b[0;32m~/miniconda3/envs/general_ml/lib/python3.11/site-packages/torch/utils/_contextlib.py:115\u001b[0m, in \u001b[0;36mcontext_decorator.<locals>.decorate_context\u001b[0;34m(*args, **kwargs)\u001b[0m\n\u001b[1;32m    112\u001b[0m \u001b[39m@functools\u001b[39m\u001b[39m.\u001b[39mwraps(func)\n\u001b[1;32m    113\u001b[0m \u001b[39mdef\u001b[39;00m \u001b[39mdecorate_context\u001b[39m(\u001b[39m*\u001b[39margs, \u001b[39m*\u001b[39m\u001b[39m*\u001b[39mkwargs):\n\u001b[1;32m    114\u001b[0m     \u001b[39mwith\u001b[39;00m ctx_factory():\n\u001b[0;32m--> 115\u001b[0m         \u001b[39mreturn\u001b[39;00m func(\u001b[39m*\u001b[39;49margs, \u001b[39m*\u001b[39;49m\u001b[39m*\u001b[39;49mkwargs)\n",
      "\u001b[1;32m/Users/mattia/Desktop/zero_to_hero/makemore_mlp_optimized.ipynb Cell 8\u001b[0m line \u001b[0;36m8\n\u001b[1;32m      <a href='vscode-notebook-cell:/Users/mattia/Desktop/zero_to_hero/makemore_mlp_optimized.ipynb#X10sZmlsZQ%3D%3D?line=0'>1</a>\u001b[0m \u001b[39m@torch\u001b[39m\u001b[39m.\u001b[39mno_grad() \u001b[39m# this decorator disables gradient tracking\u001b[39;00m\n\u001b[1;32m      <a href='vscode-notebook-cell:/Users/mattia/Desktop/zero_to_hero/makemore_mlp_optimized.ipynb#X10sZmlsZQ%3D%3D?line=1'>2</a>\u001b[0m \u001b[39mdef\u001b[39;00m \u001b[39msplit_loss\u001b[39m(split):\n\u001b[1;32m      <a href='vscode-notebook-cell:/Users/mattia/Desktop/zero_to_hero/makemore_mlp_optimized.ipynb#X10sZmlsZQ%3D%3D?line=2'>3</a>\u001b[0m   x,y \u001b[39m=\u001b[39m {\n\u001b[1;32m      <a href='vscode-notebook-cell:/Users/mattia/Desktop/zero_to_hero/makemore_mlp_optimized.ipynb#X10sZmlsZQ%3D%3D?line=3'>4</a>\u001b[0m     \u001b[39m'\u001b[39m\u001b[39mtrain\u001b[39m\u001b[39m'\u001b[39m: (Xtr, Ytr),\n\u001b[1;32m      <a href='vscode-notebook-cell:/Users/mattia/Desktop/zero_to_hero/makemore_mlp_optimized.ipynb#X10sZmlsZQ%3D%3D?line=4'>5</a>\u001b[0m     \u001b[39m'\u001b[39m\u001b[39mval\u001b[39m\u001b[39m'\u001b[39m: (Xdev, Ydev),\n\u001b[1;32m      <a href='vscode-notebook-cell:/Users/mattia/Desktop/zero_to_hero/makemore_mlp_optimized.ipynb#X10sZmlsZQ%3D%3D?line=5'>6</a>\u001b[0m     \u001b[39m'\u001b[39m\u001b[39mtest\u001b[39m\u001b[39m'\u001b[39m: (Xte, Yte),\n\u001b[1;32m      <a href='vscode-notebook-cell:/Users/mattia/Desktop/zero_to_hero/makemore_mlp_optimized.ipynb#X10sZmlsZQ%3D%3D?line=6'>7</a>\u001b[0m   }[split]\n\u001b[0;32m----> <a href='vscode-notebook-cell:/Users/mattia/Desktop/zero_to_hero/makemore_mlp_optimized.ipynb#X10sZmlsZQ%3D%3D?line=7'>8</a>\u001b[0m   emb \u001b[39m=\u001b[39m C[x] \u001b[39m# (N, block_size, n_embd)\u001b[39;00m\n\u001b[1;32m      <a href='vscode-notebook-cell:/Users/mattia/Desktop/zero_to_hero/makemore_mlp_optimized.ipynb#X10sZmlsZQ%3D%3D?line=8'>9</a>\u001b[0m   embcat \u001b[39m=\u001b[39m emb\u001b[39m.\u001b[39mview(emb\u001b[39m.\u001b[39mshape[\u001b[39m0\u001b[39m], \u001b[39m-\u001b[39m\u001b[39m1\u001b[39m) \u001b[39m# concat into (N, block_size * n_embd)\u001b[39;00m\n\u001b[1;32m     <a href='vscode-notebook-cell:/Users/mattia/Desktop/zero_to_hero/makemore_mlp_optimized.ipynb#X10sZmlsZQ%3D%3D?line=9'>10</a>\u001b[0m   hpreact \u001b[39m=\u001b[39m embcat \u001b[39m@\u001b[39m W1  \u001b[39m+\u001b[39m b1\n",
      "\u001b[0;31mIndexError\u001b[0m: tensors used as indices must be long, int, byte or bool tensors"
     ]
    }
   ],
   "source": [
    "@torch.no_grad() # this decorator disables gradient tracking\n",
    "def split_loss(split):\n",
    "  x,y = {\n",
    "    'train': (Xtr, Ytr),\n",
    "    'val': (Xdev, Ydev),\n",
    "    'test': (Xte, Yte),\n",
    "  }[split]\n",
    "  emb = C[x] # (N, block_size, n_embd)\n",
    "  embcat = emb.view(emb.shape[0], -1) # concat into (N, block_size * n_embd)\n",
    "  hpreact = embcat @ W1  + b1\n",
    "  hpreact = bngain * (hpreact - bnmean_running) / (bnstd_running) + bnbias\n",
    "  h = torch.tanh(hpreact) # (N, n_hidden)\n",
    "  logits = h @ W2 + b2 # (N, vocab_size)\n",
    "  loss = F.cross_entropy(logits, y)\n",
    "  print(split, loss.item())\n",
    "\n",
    "split_loss('train')\n",
    "split_loss('val')"
   ]
  },
  {
   "cell_type": "code",
   "execution_count": 9,
   "metadata": {},
   "outputs": [
    {
     "name": "stdout",
     "output_type": "stream",
     "text": [
      "aleiyah.\n",
      "angelica.\n",
      "jordi.\n",
      "aleisi.\n",
      "yehuan.\n",
      "kiara.\n",
      "pierce.\n",
      "gerry.\n",
      "adiel.\n",
      "tuttin.\n",
      "delde.\n",
      "fysam.\n",
      "catson.\n",
      "cristyces.\n",
      "cardyn.\n",
      "kalla.\n",
      "jaques.\n",
      "juzib.\n",
      "ahimd.\n",
      "nyya.\n"
     ]
    }
   ],
   "source": [
    "#sample the model \n",
    "@torch.no_grad()\n",
    "def sample():\n",
    "    for i in range(20):\n",
    "        context = [0] * block_size\n",
    "        name = []\n",
    "        for i in range(20):\n",
    "            context = torch.tensor(context).unsqueeze(0)\n",
    "            emb = C[context]\n",
    "            embcat = emb.view(emb.shape[0], -1)\n",
    "            hpreact = embcat @ W1 + b1\n",
    "            hpreact = bngain * (hpreact - bnmean_running) / (bnstd_running) + bnbias\n",
    "            h = torch.tanh(hpreact)\n",
    "            logits = h @ W2 + b2\n",
    "            probs = F.softmax(logits, 1)\n",
    "            next_char = torch.multinomial(probs, 1).squeeze()\n",
    "            name.append(itos[next_char.item()])\n",
    "            context = context.squeeze().tolist()\n",
    "            context = context[1:] + [next_char.item()]\n",
    "            if next_char == 0:\n",
    "                break\n",
    "        print(''.join(name))\n",
    "\n",
    "sample()\n"
   ]
  },
  {
   "cell_type": "code",
   "execution_count": 10,
   "metadata": {},
   "outputs": [],
   "source": [
    "#Save the model\n",
    "# torch.save({\n",
    "#     'C': C,\n",
    "#     'W1': W1,\n",
    "#     'b1': b1,\n",
    "#     'W2': W2,\n",
    "#     'b2': b2,\n",
    "#     'bngain': bngain,\n",
    "#     'bnbias': bnbias,\n",
    "#     'bnmean_running': bnmean_running,\n",
    "#     'bnstd_running': bnstd_running\n",
    "# }, 'model.pt')\n",
    "\n"
   ]
  },
  {
   "cell_type": "code",
   "execution_count": 12,
   "metadata": {},
   "outputs": [
    {
     "name": "stdout",
     "output_type": "stream",
     "text": [
      "jarena.\n",
      "riviey.\n",
      "aiza.\n",
      "katir.\n",
      "alinah.\n",
      "aboum.\n",
      "lillynn.\n",
      "munen.\n",
      "rhyanna.\n",
      "zaacs.\n",
      "braeley.\n",
      "bomakelto.\n",
      "kataleya.\n",
      "christal.\n",
      "gerthaan.\n",
      "marija.\n",
      "daviel.\n",
      "finsin.\n",
      "husvang.\n",
      "kaylor.\n"
     ]
    }
   ],
   "source": [
    "# #load the model and sample\n",
    "# model = torch.load('model.pt')\n",
    "# C = model['C']\n",
    "# W1 = model['W1']\n",
    "# b1 = model['b1']\n",
    "# W2 = model['W2']\n",
    "# b2 = model['b2']\n",
    "# bngain = model['bngain']\n",
    "# bnbias = model['bnbias']\n",
    "# bnmean_running = model['bnmean_running']\n",
    "# bnstd_running = model['bnstd_running']\n",
    "\n",
    "# sample()\n"
   ]
  }
 ],
 "metadata": {
  "kernelspec": {
   "display_name": "general_ml",
   "language": "python",
   "name": "python3"
  },
  "language_info": {
   "codemirror_mode": {
    "name": "ipython",
    "version": 3
   },
   "file_extension": ".py",
   "mimetype": "text/x-python",
   "name": "python",
   "nbconvert_exporter": "python",
   "pygments_lexer": "ipython3",
   "version": "3.11.5"
  }
 },
 "nbformat": 4,
 "nbformat_minor": 2
}
