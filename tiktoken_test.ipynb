{
 "cells": [
  {
   "cell_type": "code",
   "execution_count": 1,
   "metadata": {},
   "outputs": [],
   "source": [
    "import torch\n",
    "import torch.nn as nn\n",
    "from torch.nn import functional as F\n",
    "import matplotlib.pyplot as plt\n",
    "import time\n",
    "import datetime\n",
    "import nltk\n",
    "import re\n",
    "import tiktoken"
   ]
  },
  {
   "cell_type": "code",
   "execution_count": 2,
   "metadata": {},
   "outputs": [],
   "source": [
    "# hyperparameters\n",
    "batch_size = 128\n",
    "block_size = 32  # spatial extent of the model for its context\n",
    "max_iters = 5000  # number of training iterations\n",
    "eval_interval = 10  # frequency of printing training stats\n",
    "learning_rate = 3e-4\n",
    "device = torch.device('mps')\n",
    "eval_iters = 200  # number of iterations to evaluate the model\n",
    "n_embd = 600 \n",
    "n_layers = 6\n",
    "dropout = 0.2\n",
    "n_head = 6\n",
    "data_filepath = 'combined.txt'\n",
    "train_val_split = 0.95"
   ]
  },
  {
   "cell_type": "code",
   "execution_count": 3,
   "metadata": {},
   "outputs": [
    {
     "name": "stdout",
     "output_type": "stream",
     "text": [
      " - Number of words: 2,622,431\n",
      "['sheer', 'cubicles', 'Rita', 'lads', 'Ooclumency', 'Taped', 'overgrown', 'undertaking', 'raptly', 'kettle', 'enchant', 'snake', 'Valerian', 'ARE', 'blase', 'agonized', 'poise', 'chickens', 'decrees', 'birdcage', 'fcod', '142', 'flourishing', 'inject', 'textbooks', 'water', 'drinking', 'floors', 'peckers', 'shortcomings', 'carnage', 'AN', 'Itovc', 'everything', 'impress', 'BEYOND', 'Clause', 'hater', 'butterfly', 'pulsed', 'recommended', 'licence', 'compartments', 'academic', 'leet', 'hadl', 'trouser', 'creatures', 'mold', 'snow']\n",
      " - Vocabulary size: 26,960\n",
      " - Length of train data: 2,491,309\n",
      " - Length of val data: 131,122\n"
     ]
    }
   ],
   "source": [
    "\n",
    "def tokenize(text):\n",
    "    # Use regular expression to tokenize the text\n",
    "    tokens = re.findall(r'\\b\\w+\\b|\\s|\\S', text)\n",
    "    return tokens\n",
    "\n",
    "# Load data\n",
    "with open(data_filepath, 'r', encoding='utf-8') as f:\n",
    "    text = f.read()\n",
    "\n",
    "# Tokenize into words\n",
    "words = tokenize(text) # list of words\n",
    "vocab = list(set(words))\n",
    "vocab_size = len(vocab)\n",
    "print(f' - Number of words: {len(words):,}')\n",
    "print(vocab[:50])\n",
    "print(f' - Vocabulary size: {vocab_size:,}')\n",
    "stoi = {word: i for i, word in enumerate(vocab)}  # string to int\n",
    "itos = {i: word for i, word in enumerate(vocab)}  # int to string\n",
    "\n",
    "\n",
    "def encode(s): return [stoi[word] for word in s]\n",
    "def decode(l): return ' '.join([itos[i] for i in l])\n",
    "\n",
    "\n",
    "# Split into train and validation\n",
    "data = torch.tensor(encode(words), dtype=torch.long)\n",
    "n = int(train_val_split * len(data))\n",
    "train_data = data[:n]\n",
    "val_data = data[n:]\n",
    "print(f' - Length of train data: {len(train_data):,}')\n",
    "print(f' - Length of val data: {len(val_data):,}')\n",
    "\n",
    "\n",
    "def get_batch(split, batch_size, block_size):\n",
    "    \"\"\"\n",
    "    Get a batch of data for training or validation.\n",
    "\n",
    "    Parameters:\n",
    "    split (str): The split to get the data from. Can be 'train' or 'val'.\n",
    "    batch_size (int): The batch size.\n",
    "    block_size (int): The sequence length.\n",
    "\n",
    "    Returns:\n",
    "    torch.Tensor, torch.Tensor: The input data (x) and target data (y) as tensors.\n",
    "    \"\"\"\n",
    "\n",
    "    data = train_data if split == 'train' else val_data\n",
    "    ix = torch.randint(len(data) - block_size, (batch_size,))\n",
    "    x = torch.stack([data[i: i + block_size] for i in ix])\n",
    "    y = torch.stack([data[i + 1: i + block_size + 1] for i in ix])\n",
    "    return x, y\n",
    "\n",
    "\n",
    "\n",
    "\n"
   ]
  }
 ],
 "metadata": {
  "kernelspec": {
   "display_name": "general_ml",
   "language": "python",
   "name": "python3"
  },
  "language_info": {
   "codemirror_mode": {
    "name": "ipython",
    "version": 3
   },
   "file_extension": ".py",
   "mimetype": "text/x-python",
   "name": "python",
   "nbconvert_exporter": "python",
   "pygments_lexer": "ipython3",
   "version": "3.11.5"
  }
 },
 "nbformat": 4,
 "nbformat_minor": 2
}
