{
 "cells": [
  {
   "cell_type": "code",
   "execution_count": 89,
   "metadata": {},
   "outputs": [],
   "source": [
    "import torch\n",
    "import torch.nn as nn \n",
    "from torch import functional as F\n",
    "import matplotlib.pyplot as plt\n"
   ]
  },
  {
   "cell_type": "code",
   "execution_count": 72,
   "metadata": {},
   "outputs": [],
   "source": [
    "# hyperparameters\n",
    "batch_size = 32\n",
    "block_size = 128\n",
    "max_iters = 10000\n",
    "eval_interval = 500\n",
    "learning_rate = 1e-3\n",
    "device = torch.device('cuda' if torch.cuda.is_available() else 'cpu')\n",
    "eval_iters = 2000\n",
    "n_embd = 32\n"
   ]
  },
  {
   "cell_type": "code",
   "execution_count": 73,
   "metadata": {},
   "outputs": [],
   "source": [
    "\n",
    "with open('tinyshakespeare.txt', 'r', encoding = 'utf-8') as f:\n",
    "    text = f.read()\n",
    "\n",
    "chars = sorted(list(set(text)))\n",
    "vocab_size = len(chars)\n",
    "stoi = {ch: i for i, ch in enumerate(chars)}\n",
    "itos = {i: ch for i, ch in enumerate(chars)}\n",
    "encode = lambda s: [stoi[ch] for ch in s]\n",
    "decode = lambda l: ''.join([itos[i] for i in l])\n",
    "\n",
    "# Split in to train anv validation\n",
    "data = torch.tensor(encode(text), dtype = torch.long)\n",
    "n = int(0.9 * len(data))\n",
    "train_data = data[:n]\n",
    "val_data= data[n:]\n",
    "\n",
    "\n",
    "def get_batch(split):\n",
    "    data = train_data if split == 'train' else val_data\n",
    "    ix = torch.randint(len(data) - block_size, (batch_size,))\n",
    "    x = torch.stack([data[i: i + block_size] for i in ix])\n",
    "    y = torch.stack([data[i + 1: i + block_size + 1] for i in ix])\n",
    "    return x, y"
   ]
  },
  {
   "cell_type": "code",
   "execution_count": 91,
   "metadata": {},
   "outputs": [],
   "source": [
    "\n",
    "class Transformer(nn.Module): # not actually a bigram model anymore\n",
    "    def __init__(self):\n",
    "        super().__init__()\n",
    "        self.token_embedding_table = nn.Embedding(vocab_size, n_embd)\n",
    "        self.position_embedding_table = nn.Embedding(block_size, n_embd) \n",
    "        self.sa_heads = MultiHeadAttention(n_heads=4, head_size=n_embd//4)\n",
    "        self.lm_head = nn.Linear(n_embd, vocab_size) #lm head is \n",
    "        \n",
    "    def forward(self, idx, targets=None):\n",
    "        B, T = idx.shape\n",
    "        # idx and targets are both (B,T) tensors. where B is batch size and T is the number of tokens in each sequence (block_size*batch_size)\n",
    "\n",
    "        tok_emb = self.token_embedding_table(idx)  # (B,T,C)\n",
    "        pos_emb = self.position_embedding_table(torch.arange(T, device=device)) # (T,C)\n",
    "        x = tok_emb + pos_emb  # (B,T,C)\n",
    "        x = self.sa_heads(x) #apply one head of self attention, (B,T,C)\n",
    "        logits = self.lm_head(x)  # (B,T,Vocab_size)\n",
    "\n",
    "        if targets is None:\n",
    "            loss = None\n",
    "        else:\n",
    "            B, T, C = logits.shape\n",
    "            logits = logits.view(B*T, C)\n",
    "            targets = targets.view(B*T)\n",
    "            loss = F.cross_entropy(logits, targets)\n",
    "\n",
    "        return logits, loss\n",
    "\n",
    "    def generate(self, idx, max_new_tokens):\n",
    "        for _ in range(max_new_tokens):\n",
    "            #crop idx\n",
    "            idx_cond = idx[:, -block_size:]\n",
    "            logits, _ = self(idx_cond)\n",
    "            logits = logits[:, -1, :]\n",
    "            probs = F.softmax(logits, dim=-1)\n",
    "            idx_next = torch.multinomial(probs, num_samples=1)\n",
    "            idx = torch.cat((idx, idx_next), dim=-1)\n",
    "        return idx\n",
    "    \n",
    "class Head(nn.Module):\n",
    "    '''a single self attention head'''\n",
    "    def __init__(self, head_size):\n",
    "        super().__init__()\n",
    "        self.key = nn.Linear(n_embd, head_size, bias=False)\n",
    "        self.query = nn.Linear(n_embd, head_size, bias=False)\n",
    "        self.value = nn.Linear(n_embd, head_size, bias=False)\n",
    "        self.register_buffer('tril', torch.tril(torch.ones(block_size, block_size)))\n",
    "\n",
    "    def forward(self,x):\n",
    "        B,T,C = x.shape\n",
    "        k = self.key(x) # (B,T,C)\n",
    "        q = self.query(x) # (B,T,C)\n",
    "        wei = q @ k.transpose(-2,-1) * (C ** -0.5) # (B,T,T)\n",
    "        wei = wei.masked_fill(self.tril[:T,:T] == 0, float('-inf')) \n",
    "        wei = F.softmax(wei, dim=-1) # (B,T,T)\n",
    "        v = self.value(x)\n",
    "        out = wei @ v\n",
    "        return out\n",
    "    \n",
    "\n",
    "class MultiHeadAttention(nn.Module):\n",
    "    def __init__(self, n_heads, head_size):\n",
    "        super().__init__()\n",
    "        self.heads = nn.ModuleList([Head(head_size) for _ in range(n_heads)])\n",
    "        \n",
    "    def forward(self, x):\n",
    "        return torch.cat([head(x) for head in self.heads], dim=-1)\n",
    "    \n"
   ]
  },
  {
   "cell_type": "code",
   "execution_count": 75,
   "metadata": {},
   "outputs": [
    {
     "name": "stdout",
     "output_type": "stream",
     "text": [
      "Number of parameters: 11393\n"
     ]
    }
   ],
   "source": [
    "m = Transformer()\n",
    "print(f'Number of parameters: {sum(p.numel() for p in m.parameters())}')    "
   ]
  },
  {
   "cell_type": "code",
   "execution_count": 85,
   "metadata": {},
   "outputs": [
    {
     "name": "stdout",
     "output_type": "stream",
     "text": [
      "step: 0, loss: 2.2071707248687744\n",
      "step: 500, loss: 2.1520121097564697\n",
      "step: 1000, loss: 2.142669200897217\n",
      "step: 1500, loss: 2.16644549369812\n",
      "step: 2000, loss: 2.121833562850952\n",
      "step: 2500, loss: 2.1706511974334717\n",
      "step: 3000, loss: 2.1305081844329834\n",
      "step: 3500, loss: 2.1475746631622314\n",
      "step: 4000, loss: 2.150425910949707\n",
      "step: 4500, loss: 2.118091106414795\n",
      "step: 5000, loss: 2.114518165588379\n",
      "step: 5500, loss: 2.085477113723755\n",
      "step: 6000, loss: 2.1351451873779297\n",
      "step: 6500, loss: 2.100278615951538\n",
      "step: 7000, loss: 2.086372137069702\n",
      "step: 7500, loss: 2.104663133621216\n",
      "step: 8000, loss: 2.0902113914489746\n",
      "step: 8500, loss: 2.0724220275878906\n",
      "step: 9000, loss: 2.0806002616882324\n",
      "step: 9500, loss: 2.0704681873321533\n"
     ]
    }
   ],
   "source": [
    "# Training loop\n",
    "optimizer = torch.optim.Adam(m.parameters(), lr=learning_rate)\n",
    "lossi = []\n",
    "for steps in range(max_iters):\n",
    "    xb, yb = get_batch('train')\n",
    "    logits, loss = m(xb, yb)\n",
    "    optimizer.zero_grad(set_to_none=True)\n",
    "    loss.backward()\n",
    "    optimizer.step()\n",
    "    lossi.append(loss.log10().item())\n",
    "    if steps % eval_interval == 0:\n",
    "        print(f'step: {steps}, loss: {loss.item()}')\n",
    "\n",
    "plt.plot(lossi)\n",
    "lossi_means = [sum(lossi[i:i+100])/100 for i in range(len(lossi)-100)]\n",
    "plt.plot(lossi_means)\n",
    "plt.show()\n"
   ]
  },
  {
   "cell_type": "code",
   "execution_count": 92,
   "metadata": {},
   "outputs": [
    {
     "name": "stdout",
     "output_type": "stream",
     "text": [
      "validation loss: 2.187486908793449\n"
     ]
    }
   ],
   "source": [
    "# Evaluation loop over validation set\n",
    "\n",
    "with torch.no_grad():\n",
    "    total_loss = 0\n",
    "    for steps in range(eval_iters):\n",
    "        xb, yb = get_batch('val')\n",
    "        logits, loss = m(xb, yb)\n",
    "        total_loss += loss.item()\n",
    "    print(f'validation loss: {total_loss/eval_iters}')\n"
   ]
  },
  {
   "cell_type": "code",
   "execution_count": 103,
   "metadata": {},
   "outputs": [
    {
     "name": "stdout",
     "output_type": "stream",
     "text": [
      "\n",
      "Engy min the; pred astos times mee have your ther tred,\n",
      "Thown off\n",
      "bith tof, it the it dathe hiret.\n",
      "\n",
      "Hist hit\n",
      "Thaves eave tre stom ansten for gral':\n",
      "Who nor, by ulasttly to he ther or of I sand of nat \n"
     ]
    }
   ],
   "source": [
    "# Generate some text\n",
    "idx = torch.zeros((1,1), dtype=torch.long)\n",
    "print(decode(m.generate(idx, 200)[0].tolist()))\n"
   ]
  }
 ],
 "metadata": {
  "kernelspec": {
   "display_name": "general_ml",
   "language": "python",
   "name": "python3"
  },
  "language_info": {
   "codemirror_mode": {
    "name": "ipython",
    "version": 3
   },
   "file_extension": ".py",
   "mimetype": "text/x-python",
   "name": "python",
   "nbconvert_exporter": "python",
   "pygments_lexer": "ipython3",
   "version": "3.11.5"
  }
 },
 "nbformat": 4,
 "nbformat_minor": 2
}
